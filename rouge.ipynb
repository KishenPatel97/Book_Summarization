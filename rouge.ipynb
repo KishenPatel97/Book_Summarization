{
 "cells": [
  {
   "cell_type": "code",
   "execution_count": 23,
   "metadata": {
    "collapsed": true
   },
   "outputs": [],
   "source": [
    "from rouge import Rouge\n",
    "# from summarize import processBook"
   ]
  },
  {
   "cell_type": "code",
   "execution_count": 22,
   "outputs": [],
   "source": [
    "hypothesis = \"the #### transcript is a written version of each day 's cnn student news program use this transcript to he    lp students with reading comprehension and vocabulary use the weekly newsquiz to test your knowledge of storie s you     saw on cnn student news\"\n",
    "\n",
    "reference = \"this page includes the show transcript use the transcript to help students with reading comprehension and     vocabulary at the bottom of the page , comment for a chance to be mentioned on cnn student news . you must be a teac    her or a student age # # or older to request a mention on the cnn student news roll call . the weekly newsquiz tests     students ' knowledge of even ts in the news\"\n",
    "\n",
    "rouge = Rouge()\n",
    "scores = rouge.get_scores(hypothesis, reference)"
   ],
   "metadata": {
    "collapsed": false,
    "pycharm": {
     "name": "#%%\n"
    }
   }
  },
  {
   "cell_type": "code",
   "execution_count": 18,
   "outputs": [
    {
     "name": "stdout",
     "output_type": "stream",
     "text": [
      "0.4786324739396596\n",
      "0.20833333333333334\n",
      "0.5277777777777778\n"
     ]
    }
   ],
   "source": [
    "# To extract the F1-Score from the ROUGE-1 Unigram method\n",
    "print(scores[0]['rouge-1']['f'])\n",
    "\n",
    "# To extract the Recall from the ROUGE-2 Bigram method\n",
    "print(scores[0]['rouge-2']['r'])\n",
    "\n",
    "# To extract the Precision from the ROUGE-L Longest Common Sequence method\n",
    "print(scores[0]['rouge-l']['p'])"
   ],
   "metadata": {
    "collapsed": false,
    "pycharm": {
     "name": "#%%\n"
    }
   }
  },
  {
   "cell_type": "code",
   "execution_count": 24,
   "outputs": [],
   "source": [
    "def processBook(fname):\n",
    "    \"\"\" Function to process .txt books, esp. from Gutenberg.\n",
    "    PARAMS: fname (str) - filepath to book to be processed into a string\n",
    "    RETURNS: (str) - the string object containing the text\n",
    "    \"\"\"\n",
    "    book = open(fname)      # open book file\n",
    "    book_lines = []         # initialize storage\n",
    "    for line in book.readlines():       # iterate through each line\n",
    "        book_lines.append(line.strip())     # process each line\n",
    "\n",
    "    return \" \".join(book_lines)         # return processed lines"
   ],
   "metadata": {
    "collapsed": false,
    "pycharm": {
     "name": "#%%\n"
    }
   }
  },
  {
   "cell_type": "code",
   "execution_count": 25,
   "outputs": [],
   "source": [
    "control1 = processBook('texts/cn_alice.txt')\n",
    "\n",
    "control2 = processBook('texts/gs_alice.txt')\n",
    "\n",
    "# Calculate the upper bound (ROUGE of 2 manually created summaries)\n",
    "ub_scores = rouge.get_scores(control1, control2)\n"
   ],
   "metadata": {
    "collapsed": false,
    "pycharm": {
     "name": "#%%\n"
    }
   }
  },
  {
   "cell_type": "code",
   "execution_count": 41,
   "outputs": [],
   "source": [
    "def printROUGEscores(scores):\n",
    "    counter = 1         # counter in case of multiple scores\n",
    "    for scoring in scores:\n",
    "        print(\"Scores for Phrase {}\".format(counter))\n",
    "        counter += 1\n",
    "        for method in scoring:\n",
    "            for score in scoring[method]:\n",
    "                print(\"Method: {}\\t\\t{}: {:.3%}\".format(method, score, scoring[method][score]))"
   ],
   "metadata": {
    "collapsed": false,
    "pycharm": {
     "name": "#%%\n"
    }
   }
  },
  {
   "cell_type": "markdown",
   "source": [
    "The following cell contains the ROUGE scoring for the comparison between the Cliff's Notes summary (`cn_alice.txt`)\n",
    "and the Grade Saver summary (`gs_alice.txt`). This should be considered an 'upper bounds' of sort,\n",
    "since it is unreasonable to expect our summarizer to create a better summary than\n",
    "a human.\n",
    "\n",
    "The ROUGE-1 uses unigram tokens, so it tests recall, precision and f-score for\n",
    "individual tokens.\n",
    "\n",
    "ROUGE-2 uses bigrams, so two-token sequences (e.g. \"my dog\", \"dog is\", \"is a\", \"a great\", etc.).\n",
    "\n",
    "ROUGE-L uses longest common sequences within the strings.\n",
    "\n",
    "More documentation at https://pypi.org/project/rouge/"
   ],
   "metadata": {
    "collapsed": false,
    "pycharm": {
     "name": "#%% md\n"
    }
   }
  },
  {
   "cell_type": "code",
   "execution_count": 43,
   "outputs": [
    {
     "name": "stdout",
     "output_type": "stream",
     "text": [
      "Scores for Phrase 1\n",
      "Method: rouge-1\t\tf: 33.537%\n",
      "Method: rouge-1\t\tp: 22.214%\n",
      "Method: rouge-1\t\tr: 68.409%\n",
      "Method: rouge-2\t\tf: 10.137%\n",
      "Method: rouge-2\t\tp: 6.713%\n",
      "Method: rouge-2\t\tr: 20.690%\n",
      "Method: rouge-l\t\tf: 23.130%\n",
      "Method: rouge-l\t\tp: 15.549%\n",
      "Method: rouge-l\t\tr: 45.135%\n"
     ]
    }
   ],
   "source": [
    "printROUGEscores(ub_scores)"
   ],
   "metadata": {
    "collapsed": false,
    "pycharm": {
     "name": "#%%\n"
    }
   }
  },
  {
   "cell_type": "code",
   "execution_count": null,
   "outputs": [],
   "source": [],
   "metadata": {
    "collapsed": false,
    "pycharm": {
     "name": "#%%\n"
    }
   }
  }
 ],
 "metadata": {
  "kernelspec": {
   "display_name": "Python 3",
   "language": "python",
   "name": "python3"
  },
  "language_info": {
   "codemirror_mode": {
    "name": "ipython",
    "version": 2
   },
   "file_extension": ".py",
   "mimetype": "text/x-python",
   "name": "python",
   "nbconvert_exporter": "python",
   "pygments_lexer": "ipython2",
   "version": "2.7.6"
  }
 },
 "nbformat": 4,
 "nbformat_minor": 0
}