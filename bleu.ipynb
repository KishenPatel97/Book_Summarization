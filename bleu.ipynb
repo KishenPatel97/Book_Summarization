{
  "nbformat": 4,
  "nbformat_minor": 0,
  "metadata": {
    "colab": {
      "name": "bleu.ipynb",
      "provenance": [],
      "authorship_tag": "ABX9TyPmGZn1rd4r3DVHutFGnxsd",
      "include_colab_link": true
    },
    "kernelspec": {
      "name": "python3",
      "display_name": "Python 3"
    }
  },
  "cells": [
    {
      "cell_type": "markdown",
      "metadata": {
        "id": "view-in-github",
        "colab_type": "text"
      },
      "source": [
        "<a href=\"https://colab.research.google.com/github/KishenPatel97/Book_Summarization/blob/main/bleu.ipynb\" target=\"_parent\"><img src=\"https://colab.research.google.com/assets/colab-badge.svg\" alt=\"Open In Colab\"/></a>"
      ]
    },
    {
      "cell_type": "code",
      "metadata": {
        "id": "zjYxuFUbdGtt",
        "colab": {
          "base_uri": "https://localhost:8080/"
        },
        "outputId": "03974fe6-12fc-4cf1-d532-1622d096ec5d"
      },
      "source": [
        "import nltk\n",
        "from nltk.translate import bleu\n",
        "import pandas as pd\n",
        "from nltk.translate.bleu_score import SmoothingFunction\n",
        "nltk.download('punkt')\n",
        "from nltk import word_tokenize\n",
        "# from summarize import processBook"
      ],
      "execution_count": 59,
      "outputs": [
        {
          "output_type": "stream",
          "text": [
            "[nltk_data] Downloading package punkt to /root/nltk_data...\n",
            "[nltk_data]   Package punkt is already up-to-date!\n"
          ],
          "name": "stdout"
        }
      ]
    },
    {
      "cell_type": "code",
      "metadata": {
        "colab": {
          "base_uri": "https://localhost:8080/"
        },
        "id": "7aHedAtrvqqP",
        "outputId": "1f38a248-d563-48bf-cdfe-404e3f106db3"
      },
      "source": [
        "hypothesis = \"the #### transcript is a written version of each day 's cnn student news program use this transcript to help students with reading comprehension and vocabulary use the weekly newsquiz to test your knowledge of storie s you saw on cnn student news\"\n",
        "\n",
        "reference = \"this page includes the show transcript use the transcript to help students with reading comprehension and vocabulary at the bottom of the page, comment for a chance to be mentioned on cnn student news. you must be a teacher or a student age # # or older to request a mention on the cnn student news roll call . the weekly newsquiz tests students' knowledge of even ts in the news\"\n",
        "\n",
        "hyp1 = \"This text is just for testing purposes\"\n",
        "\n",
        "ref1 = \"The article is just meant for evaluation\"\n",
        "# Requires text in a tokenized format\n",
        "score1 = bleu([word_tokenize(reference)], word_tokenize(hypothesis))\n",
        "print(score1)\n",
        "\n",
        "chencherry = SmoothingFunction()\n",
        "score2 = bleu([word_tokenize(ref1)], word_tokenize(hyp1), smoothing_function = chencherry.method1)\n",
        "print(score2)"
      ],
      "execution_count": 60,
      "outputs": [
        {
          "output_type": "stream",
          "text": [
            "0.17607804141687589\n",
            "0.07730551756939454\n"
          ],
          "name": "stdout"
        }
      ]
    },
    {
      "cell_type": "code",
      "metadata": {
        "id": "mL5NmEvdykVg"
      },
      "source": [
        "def processBook(fname):\n",
        "    \"\"\" Function to process .txt books, esp. from Gutenberg.\n",
        "    PARAMS: fname (str) - filepath to book to be processed into a string\n",
        "    RETURNS: (str) - the string object containing the text\n",
        "    \"\"\"\n",
        "    book = open(fname)      # open book file\n",
        "    book_lines = []         # initialize storage\n",
        "    for line in book.readlines():       # iterate through each line\n",
        "        book_lines.append(line.strip())     # process each line\n",
        "\n",
        "    return \" \".join(book_lines)         # return processed lines"
      ],
      "execution_count": 61,
      "outputs": []
    },
    {
      "cell_type": "code",
      "metadata": {
        "id": "7SZ_PpNzUe7W"
      },
      "source": [
        "def evaluateSummary(controltext1, controltext2, summarytext, data_score):\n",
        "    \"\"\"Helper function to run summarization experiments\n",
        "    PARAMS: controltext1 (str) - path to Cliff's Notes summary\n",
        "            controltext2 (str) - path to Grade Saver summary\n",
        "            summarytext (str) - path to generated summary to evaluate\n",
        "    \"\"\"\n",
        "    control1 = processBook(controltext1)\n",
        "    control2 = processBook(controltext2)\n",
        "    summary = processBook(summarytext)\n",
        "\n",
        "    chencherry = SmoothingFunction()\n",
        "    # Requires text in a tokenized format\n",
        "    # Calculate the upper bound (Bleu of 2 manually created summaries)\n",
        "    ub_scores = bleu([word_tokenize(control1)], word_tokenize(control2), weights = (1, 0, 0, 0), smoothing_function = chencherry.method1)\n",
        "    ub_scores_bi = bleu([word_tokenize(control1)], word_tokenize(control2), weights = (0, 1, 0, 0), smoothing_function = chencherry.method1)\n",
        "    ub_scores_cumal = bleu([word_tokenize(control1)], word_tokenize(control2), smoothing_function = chencherry.method1)\n",
        "\n",
        "    ub_scores2 = bleu([word_tokenize(control2)], word_tokenize(control1), weights = (1, 0, 0, 0), smoothing_function = chencherry.method1)\n",
        "    ub_scores2_bi = bleu([word_tokenize(control2)], word_tokenize(control1), weights = (0, 1, 0, 0), smoothing_function = chencherry.method1)\n",
        "    ub_scores2_cumal = bleu([word_tokenize(control2)], word_tokenize(control1), smoothing_function = chencherry.method1)\n",
        "\n",
        "    sum_scores_cn = bleu([word_tokenize(summary)], word_tokenize(control1), weights = (1, 0, 0, 0), smoothing_function = chencherry.method1)\n",
        "    sum_scores_cn_bi = bleu([word_tokenize(summary)], word_tokenize(control1), weights = (0, 1, 0, 0), smoothing_function = chencherry.method1)\n",
        "    sum_scores_cn_cumal = bleu([word_tokenize(summary)], word_tokenize(control1), smoothing_function = chencherry.method1)\n",
        "\n",
        "    sum_scores_gs = bleu([word_tokenize(summary)], word_tokenize(control2), weights = (1, 0, 0, 0), smoothing_function = chencherry.method1)\n",
        "    sum_scores_gs_bi = bleu([word_tokenize(summary)], word_tokenize(control2), weights = (0, 1, 0, 0), smoothing_function = chencherry.method1)\n",
        "    sum_scores_gs_cumal = bleu([word_tokenize(summary)], word_tokenize(control2), smoothing_function = chencherry.method1)\n",
        "\n",
        "    data_score.append([controltext1, ub_scores,ub_scores_bi,ub_scores_cumal,ub_scores2,ub_scores2_bi,ub_scores2_cumal,sum_scores_cn,sum_scores_cn_bi,sum_scores_cn_cumal,sum_scores_gs,sum_scores_gs_bi,sum_scores_gs_cumal])\n",
        "\n",
        "    #print(\"Scores for {}\".format(controltext1[18:]))\n",
        "    print(f\"Scores for {controltext1}\")\n",
        "    print(\"Upper Bound:\")\n",
        "    print(f'unigram:    {ub_scores}')\n",
        "    print(f'bigram:     {ub_scores_bi}')\n",
        "    print(f'cumalitive  {ub_scores_cumal}')\n",
        "    print(f'\\nunigram:    {ub_scores2}')\n",
        "    print(f'bigram:     {ub_scores2_bi}')\n",
        "    print(f'cumalitive  {ub_scores2_cumal}')\n",
        "    print(\"\\nCliff's Notes:\")\n",
        "    print(f'unigram:    {sum_scores_cn}')\n",
        "    print(f'bigram:     {sum_scores_cn_bi}')\n",
        "    print(f'cumalitive: {sum_scores_cn_cumal}')\n",
        "    print(\"\\nGradeSaver:\")\n",
        "    print(f'unigram:    {sum_scores_gs}')\n",
        "    print(f'bigram:     {sum_scores_gs_bi}')\n",
        "    print(f'cumalitive: {sum_scores_gs_cumal}')"
      ],
      "execution_count": 62,
      "outputs": []
    },
    {
      "cell_type": "code",
      "metadata": {
        "id": "YJw4mIXotjsm"
      },
      "source": [
        "# storing scores\n",
        "data_scores = []"
      ],
      "execution_count": 63,
      "outputs": []
    },
    {
      "cell_type": "code",
      "metadata": {
        "id": "ggObRxn3NPIf",
        "colab": {
          "base_uri": "https://localhost:8080/"
        },
        "outputId": "91629a5b-eb7f-4095-b15a-ced4c31fd148"
      },
      "source": [
        "evaluateSummary(\"cn_alice.txt\",\n",
        "                \"gs_alice.txt\",\n",
        "                \"alice_clean_summary_5_sent.txt\", data_scores)"
      ],
      "execution_count": 64,
      "outputs": [
        {
          "output_type": "stream",
          "text": [
            "Scores for cn_alice.txt\n",
            "Upper Bound:\n",
            "unigram:    0.08303134720918029\n",
            "bigram:     0.032459204484857264\n",
            "cumalitive  0.01419038319425634\n",
            "\n",
            "unigram:    0.2351590685470646\n",
            "bigram:     0.09186351706036745\n",
            "cumalitive  0.04014594269451768\n",
            "\n",
            "Cliff's Notes:\n",
            "unigram:    0.22531977697605776\n",
            "bigram:     0.043963254593175856\n",
            "cumalitive: 0.009899934612300541\n",
            "\n",
            "GradeSaver:\n",
            "unigram:    0.3113996147466913\n",
            "bigram:     0.0633306237998558\n",
            "cumalitive: 0.018890679970605964\n"
          ],
          "name": "stdout"
        }
      ]
    },
    {
      "cell_type": "code",
      "metadata": {
        "id": "13_X5ru_SoN2",
        "colab": {
          "base_uri": "https://localhost:8080/"
        },
        "outputId": "f8197a74-6576-49c4-8761-c8592700edca"
      },
      "source": [
        "evaluateSummary(\"cn_david.txt\",\n",
        "                \"gs_david.txt\",\n",
        "                \"david_summary_5_sent.txt\", data_scores)"
      ],
      "execution_count": 65,
      "outputs": [
        {
          "output_type": "stream",
          "text": [
            "Scores for cn_david.txt\n",
            "Upper Bound:\n",
            "unigram:    0.3392307692307692\n",
            "bigram:     0.13086989992301773\n",
            "cumalitive  0.056846519709643065\n",
            "\n",
            "unigram:    0.22932578989714053\n",
            "bigram:     0.08854956898635996\n",
            "cumalitive  0.038480971039978065\n",
            "\n",
            "Cliff's Notes:\n",
            "unigram:    0.0003384215398488578\n",
            "bigram:     7.61765338760912e-05\n",
            "cumalitive: 9.16240213639191e-06\n",
            "\n",
            "GradeSaver:\n",
            "unigram:    0.030824760269202063\n",
            "bigram:     0.007054661419728189\n",
            "cumalitive: 0.0007850360748045481\n"
          ],
          "name": "stdout"
        }
      ]
    },
    {
      "cell_type": "code",
      "metadata": {
        "id": "j8rEYelC5ZO4",
        "colab": {
          "base_uri": "https://localhost:8080/"
        },
        "outputId": "2370201f-d865-4921-f637-6ee0578883a9"
      },
      "source": [
        "evaluateSummary(\"cn_expectations.txt\",\n",
        "                \"gs_expectations.txt\",\n",
        "                \"expectations_summary_5_sent.txt\", data_scores)"
      ],
      "execution_count": 66,
      "outputs": [
        {
          "output_type": "stream",
          "text": [
            "Scores for cn_expectations.txt\n",
            "Upper Bound:\n",
            "unigram:    0.46613545816733065\n",
            "bigram:     0.18768115942028984\n",
            "cumalitive  0.08229812443984479\n",
            "\n",
            "unigram:    0.40850835159465515\n",
            "bigram:     0.16451470490322925\n",
            "cumalitive  0.07214756792939755\n",
            "\n",
            "Cliff's Notes:\n",
            "unigram:    0.08922774628490296\n",
            "bigram:     0.017559975960960143\n",
            "cumalitive: 0.004375727845936414\n",
            "\n",
            "GradeSaver:\n",
            "unigram:    0.24825586487864265\n",
            "bigram:     0.05509079646941433\n",
            "cumalitive: 0.005851759233539406\n"
          ],
          "name": "stdout"
        }
      ]
    },
    {
      "cell_type": "code",
      "metadata": {
        "colab": {
          "base_uri": "https://localhost:8080/"
        },
        "id": "49IBx-RyXtvs",
        "outputId": "ed140957-837a-405c-c962-13db47976fe7"
      },
      "source": [
        "evaluateSummary(\"cn_frank.txt\",\n",
        "                \"gs_frank.txt\",\n",
        "                \"frank_summary_5_sent.txt\", data_scores)"
      ],
      "execution_count": 67,
      "outputs": [
        {
          "output_type": "stream",
          "text": [
            "Scores for cn_frank.txt\n",
            "Upper Bound:\n",
            "unigram:    0.2972972972972973\n",
            "bigram:     0.10815682739972962\n",
            "cumalitive  0.041622924169551496\n",
            "\n",
            "unigram:    0.17754126774891524\n",
            "bigram:     0.06462988085014275\n",
            "cumalitive  0.02487986089601523\n",
            "\n",
            "Cliff's Notes:\n",
            "unigram:    0.05603954269824744\n",
            "bigram:     0.012466622282453613\n",
            "cumalitive: 0.00155635219558151\n",
            "\n",
            "GradeSaver:\n",
            "unigram:    0.36239576081712777\n",
            "bigram:     0.08307358719559678\n",
            "cumalitive: 0.019663668252279786\n"
          ],
          "name": "stdout"
        }
      ]
    },
    {
      "cell_type": "code",
      "metadata": {
        "id": "CiVpowGK5lvL",
        "colab": {
          "base_uri": "https://localhost:8080/"
        },
        "outputId": "2a31d275-c85b-4ea5-831d-5905ffe6d955"
      },
      "source": [
        "evaluateSummary(\"cn_huckfin.txt\",\n",
        "                \"gs_huckfin.txt\",\n",
        "                \"huckfin_summary_5_sent.txt\", data_scores)"
      ],
      "execution_count": 68,
      "outputs": [
        {
          "output_type": "stream",
          "text": [
            "Scores for cn_huckfin.txt\n",
            "Upper Bound:\n",
            "unigram:    0.2803921568627451\n",
            "bigram:     0.11378126532614026\n",
            "cumalitive  0.05191206501684533\n",
            "\n",
            "unigram:    0.1484987615856758\n",
            "bigram:     0.06030670128575214\n",
            "cumalitive  0.027525336504052856\n",
            "\n",
            "Cliff's Notes:\n",
            "unigram:    0.007189965489960233\n",
            "bigram:     0.001587072072113309\n",
            "cumalitive: 0.0005413107081658332\n",
            "\n",
            "GradeSaver:\n",
            "unigram:    0.1900743403645806\n",
            "bigram:     0.03954812083434094\n",
            "cumalitive: 0.010358564672349246\n"
          ],
          "name": "stdout"
        }
      ]
    },
    {
      "cell_type": "code",
      "metadata": {
        "colab": {
          "base_uri": "https://localhost:8080/"
        },
        "id": "YTc4Lgrhz6lD",
        "outputId": "3764ff5e-af40-4c40-9c6e-18ea3fe983a8"
      },
      "source": [
        "evaluateSummary(\"cn_pride.txt\",\n",
        "                \"gs_pride.txt\",\n",
        "                \"pride_summary_5_sent.txt\", data_scores)"
      ],
      "execution_count": 69,
      "outputs": [
        {
          "output_type": "stream",
          "text": [
            "Scores for cn_pride.txt\n",
            "Upper Bound:\n",
            "unigram:    0.3231707317073171\n",
            "bigram:     0.14449104079298514\n",
            "cumalitive  0.06221505030388924\n",
            "\n",
            "unigram:    0.18140364266272244\n",
            "bigram:     0.08115244351259103\n",
            "cumalitive  0.03495262654841914\n",
            "\n",
            "Cliff's Notes:\n",
            "unigram:    0.0030411666284463415\n",
            "bigram:     0.0009190445048768735\n",
            "cumalitive: 0.0002891016187865049\n",
            "\n",
            "GradeSaver:\n",
            "unigram:    0.12524494640551825\n",
            "bigram:     0.03017351447818505\n",
            "cumalitive: 0.009384811020106847\n"
          ],
          "name": "stdout"
        }
      ]
    },
    {
      "cell_type": "code",
      "metadata": {
        "id": "bWYP3bBS50qj",
        "colab": {
          "base_uri": "https://localhost:8080/"
        },
        "outputId": "82630001-ae36-4148-b458-fe8212c6a4d7"
      },
      "source": [
        "evaluateSummary(\"cn_scarlet.txt\",\n",
        "                \"gs_scarlet.txt\",\n",
        "                \"scarlet_summary_5_sent.txt\", data_scores)"
      ],
      "execution_count": 70,
      "outputs": [
        {
          "output_type": "stream",
          "text": [
            "Scores for cn_scarlet.txt\n",
            "Upper Bound:\n",
            "unigram:    0.4584786624933773\n",
            "bigram:     0.1311605624799302\n",
            "cumalitive  0.048563373167915966\n",
            "\n",
            "unigram:    0.47834456207892206\n",
            "bigram:     0.13680154142581888\n",
            "cumalitive  0.050644147959759196\n",
            "\n",
            "Cliff's Notes:\n",
            "unigram:    0.0875012301211657\n",
            "bigram:     0.020947665282911383\n",
            "cumalitive: 0.002724053311001991\n",
            "\n",
            "GradeSaver:\n",
            "unigram:    0.036919125329569334\n",
            "bigram:     0.0077314711062871\n",
            "cumalitive: 0.001222035977226448\n"
          ],
          "name": "stdout"
        }
      ]
    },
    {
      "cell_type": "code",
      "metadata": {
        "colab": {
          "base_uri": "https://localhost:8080/"
        },
        "id": "_r-f2VCW1jU4",
        "outputId": "9d3a8971-0d2d-4c35-8e7f-32999e18cf7e"
      },
      "source": [
        "evaluateSummary(\"cn_tale.txt\",\n",
        "                \"gs_tale.txt\",\n",
        "                \"tale_summary_5_sent.txt\", data_scores)"
      ],
      "execution_count": 71,
      "outputs": [
        {
          "output_type": "stream",
          "text": [
            "Scores for cn_tale.txt\n",
            "Upper Bound:\n",
            "unigram:    0.39036978012722634\n",
            "bigram:     0.1327118069258435\n",
            "cumalitive  0.06417368020060649\n",
            "\n",
            "unigram:    0.43161634103019536\n",
            "bigram:     0.14666666666666667\n",
            "cumalitive  0.07090525812334236\n",
            "\n",
            "Cliff's Notes:\n",
            "unigram:    0.030856542133496704\n",
            "bigram:     0.006461876835767729\n",
            "cumalitive: 0.0007751729475069887\n",
            "\n",
            "GradeSaver:\n",
            "unigram:    0.004318944609210348\n",
            "bigram:     0.001029258237433524\n",
            "cumalitive: 0.00013357862982062282\n"
          ],
          "name": "stdout"
        }
      ]
    },
    {
      "cell_type": "code",
      "metadata": {
        "colab": {
          "base_uri": "https://localhost:8080/"
        },
        "id": "-sexJMz89Vuz",
        "outputId": "f0922223-3ab7-422e-fed4-d8043892366d"
      },
      "source": [
        "evaluateSummary(\"cn_treasure.txt\",\n",
        "                \"gs_treasure.txt\",\n",
        "                \"treasure_summary_5_sent.txt\", data_scores)"
      ],
      "execution_count": 72,
      "outputs": [
        {
          "output_type": "stream",
          "text": [
            "Scores for cn_treasure.txt\n",
            "Upper Bound:\n",
            "unigram:    0.49544922544410486\n",
            "bigram:     0.1454979131243865\n",
            "cumalitive  0.0615375452620419\n",
            "\n",
            "unigram:    0.4977738201246661\n",
            "bigram:     0.14616755793226383\n",
            "cumalitive  0.06181800524638476\n",
            "\n",
            "Cliff's Notes:\n",
            "unigram:    0.07013434908391808\n",
            "bigram:     0.017628862830753707\n",
            "cumalitive: 0.005381770884365949\n",
            "\n",
            "GradeSaver:\n",
            "unigram:    0.05029364404223632\n",
            "bigram:     0.014273807990794614\n",
            "cumalitive: 0.009179688951930455\n"
          ],
          "name": "stdout"
        }
      ]
    },
    {
      "cell_type": "code",
      "metadata": {
        "colab": {
          "base_uri": "https://localhost:8080/"
        },
        "id": "ki-QWgrA9hjW",
        "outputId": "b7484d08-dc44-402c-c1f7-31a122c1a14f"
      },
      "source": [
        "evaluateSummary(\"cn_warpeace.txt\",\n",
        "                \"gs_warpeace.txt\",\n",
        "                \"warpeace_summary_5_sent.txt\", data_scores)"
      ],
      "execution_count": 73,
      "outputs": [
        {
          "output_type": "stream",
          "text": [
            "Scores for cn_warpeace.txt\n",
            "Upper Bound:\n",
            "unigram:    0.3752913752913753\n",
            "bigram:     0.10447761194029852\n",
            "cumalitive  0.030991563369445897\n",
            "\n",
            "unigram:    0.3365555744093594\n",
            "bigram:     0.09371762107043731\n",
            "cumalitive  0.027803312488139758\n",
            "\n",
            "Cliff's Notes:\n",
            "unigram:    5.596751883779981e-13\n",
            "bigram:     2.1493342197624413e-13\n",
            "cumalitive: 5.84764317997896e-14\n",
            "\n",
            "GradeSaver:\n",
            "unigram:    1.4599211339103648e-08\n",
            "bigram:     5.6900466883542325e-09\n",
            "cumalitive: 1.8305523297427825e-09\n"
          ],
          "name": "stdout"
        }
      ]
    },
    {
      "cell_type": "code",
      "metadata": {
        "id": "GijdCMH-xOyl",
        "outputId": "c6ed2f0e-a89d-493b-d777-60ef20978c2f",
        "colab": {
          "base_uri": "https://localhost:8080/",
          "height": 363
        }
      },
      "source": [
        "# saving scores\n",
        "da = pd.DataFrame(data_scores)\n",
        "da.to_csv('scores5_sent.csv', index = False)\n",
        "da"
      ],
      "execution_count": 74,
      "outputs": [
        {
          "output_type": "execute_result",
          "data": {
            "text/html": [
              "<div>\n",
              "<style scoped>\n",
              "    .dataframe tbody tr th:only-of-type {\n",
              "        vertical-align: middle;\n",
              "    }\n",
              "\n",
              "    .dataframe tbody tr th {\n",
              "        vertical-align: top;\n",
              "    }\n",
              "\n",
              "    .dataframe thead th {\n",
              "        text-align: right;\n",
              "    }\n",
              "</style>\n",
              "<table border=\"1\" class=\"dataframe\">\n",
              "  <thead>\n",
              "    <tr style=\"text-align: right;\">\n",
              "      <th></th>\n",
              "      <th>0</th>\n",
              "      <th>1</th>\n",
              "      <th>2</th>\n",
              "      <th>3</th>\n",
              "      <th>4</th>\n",
              "      <th>5</th>\n",
              "      <th>6</th>\n",
              "      <th>7</th>\n",
              "      <th>8</th>\n",
              "      <th>9</th>\n",
              "      <th>10</th>\n",
              "      <th>11</th>\n",
              "      <th>12</th>\n",
              "    </tr>\n",
              "  </thead>\n",
              "  <tbody>\n",
              "    <tr>\n",
              "      <th>0</th>\n",
              "      <td>cn_alice.txt</td>\n",
              "      <td>0.083031</td>\n",
              "      <td>0.032459</td>\n",
              "      <td>0.014190</td>\n",
              "      <td>0.235159</td>\n",
              "      <td>0.091864</td>\n",
              "      <td>0.040146</td>\n",
              "      <td>2.253198e-01</td>\n",
              "      <td>4.396325e-02</td>\n",
              "      <td>9.899935e-03</td>\n",
              "      <td>3.113996e-01</td>\n",
              "      <td>6.333062e-02</td>\n",
              "      <td>1.889068e-02</td>\n",
              "    </tr>\n",
              "    <tr>\n",
              "      <th>1</th>\n",
              "      <td>cn_david.txt</td>\n",
              "      <td>0.339231</td>\n",
              "      <td>0.130870</td>\n",
              "      <td>0.056847</td>\n",
              "      <td>0.229326</td>\n",
              "      <td>0.088550</td>\n",
              "      <td>0.038481</td>\n",
              "      <td>3.384215e-04</td>\n",
              "      <td>7.617653e-05</td>\n",
              "      <td>9.162402e-06</td>\n",
              "      <td>3.082476e-02</td>\n",
              "      <td>7.054661e-03</td>\n",
              "      <td>7.850361e-04</td>\n",
              "    </tr>\n",
              "    <tr>\n",
              "      <th>2</th>\n",
              "      <td>cn_expectations.txt</td>\n",
              "      <td>0.466135</td>\n",
              "      <td>0.187681</td>\n",
              "      <td>0.082298</td>\n",
              "      <td>0.408508</td>\n",
              "      <td>0.164515</td>\n",
              "      <td>0.072148</td>\n",
              "      <td>8.922775e-02</td>\n",
              "      <td>1.755998e-02</td>\n",
              "      <td>4.375728e-03</td>\n",
              "      <td>2.482559e-01</td>\n",
              "      <td>5.509080e-02</td>\n",
              "      <td>5.851759e-03</td>\n",
              "    </tr>\n",
              "    <tr>\n",
              "      <th>3</th>\n",
              "      <td>cn_frank.txt</td>\n",
              "      <td>0.297297</td>\n",
              "      <td>0.108157</td>\n",
              "      <td>0.041623</td>\n",
              "      <td>0.177541</td>\n",
              "      <td>0.064630</td>\n",
              "      <td>0.024880</td>\n",
              "      <td>5.603954e-02</td>\n",
              "      <td>1.246662e-02</td>\n",
              "      <td>1.556352e-03</td>\n",
              "      <td>3.623958e-01</td>\n",
              "      <td>8.307359e-02</td>\n",
              "      <td>1.966367e-02</td>\n",
              "    </tr>\n",
              "    <tr>\n",
              "      <th>4</th>\n",
              "      <td>cn_huckfin.txt</td>\n",
              "      <td>0.280392</td>\n",
              "      <td>0.113781</td>\n",
              "      <td>0.051912</td>\n",
              "      <td>0.148499</td>\n",
              "      <td>0.060307</td>\n",
              "      <td>0.027525</td>\n",
              "      <td>7.189965e-03</td>\n",
              "      <td>1.587072e-03</td>\n",
              "      <td>5.413107e-04</td>\n",
              "      <td>1.900743e-01</td>\n",
              "      <td>3.954812e-02</td>\n",
              "      <td>1.035856e-02</td>\n",
              "    </tr>\n",
              "    <tr>\n",
              "      <th>5</th>\n",
              "      <td>cn_pride.txt</td>\n",
              "      <td>0.323171</td>\n",
              "      <td>0.144491</td>\n",
              "      <td>0.062215</td>\n",
              "      <td>0.181404</td>\n",
              "      <td>0.081152</td>\n",
              "      <td>0.034953</td>\n",
              "      <td>3.041167e-03</td>\n",
              "      <td>9.190445e-04</td>\n",
              "      <td>2.891016e-04</td>\n",
              "      <td>1.252449e-01</td>\n",
              "      <td>3.017351e-02</td>\n",
              "      <td>9.384811e-03</td>\n",
              "    </tr>\n",
              "    <tr>\n",
              "      <th>6</th>\n",
              "      <td>cn_scarlet.txt</td>\n",
              "      <td>0.458479</td>\n",
              "      <td>0.131161</td>\n",
              "      <td>0.048563</td>\n",
              "      <td>0.478345</td>\n",
              "      <td>0.136802</td>\n",
              "      <td>0.050644</td>\n",
              "      <td>8.750123e-02</td>\n",
              "      <td>2.094767e-02</td>\n",
              "      <td>2.724053e-03</td>\n",
              "      <td>3.691913e-02</td>\n",
              "      <td>7.731471e-03</td>\n",
              "      <td>1.222036e-03</td>\n",
              "    </tr>\n",
              "    <tr>\n",
              "      <th>7</th>\n",
              "      <td>cn_tale.txt</td>\n",
              "      <td>0.390370</td>\n",
              "      <td>0.132712</td>\n",
              "      <td>0.064174</td>\n",
              "      <td>0.431616</td>\n",
              "      <td>0.146667</td>\n",
              "      <td>0.070905</td>\n",
              "      <td>3.085654e-02</td>\n",
              "      <td>6.461877e-03</td>\n",
              "      <td>7.751729e-04</td>\n",
              "      <td>4.318945e-03</td>\n",
              "      <td>1.029258e-03</td>\n",
              "      <td>1.335786e-04</td>\n",
              "    </tr>\n",
              "    <tr>\n",
              "      <th>8</th>\n",
              "      <td>cn_treasure.txt</td>\n",
              "      <td>0.495449</td>\n",
              "      <td>0.145498</td>\n",
              "      <td>0.061538</td>\n",
              "      <td>0.497774</td>\n",
              "      <td>0.146168</td>\n",
              "      <td>0.061818</td>\n",
              "      <td>7.013435e-02</td>\n",
              "      <td>1.762886e-02</td>\n",
              "      <td>5.381771e-03</td>\n",
              "      <td>5.029364e-02</td>\n",
              "      <td>1.427381e-02</td>\n",
              "      <td>9.179689e-03</td>\n",
              "    </tr>\n",
              "    <tr>\n",
              "      <th>9</th>\n",
              "      <td>cn_warpeace.txt</td>\n",
              "      <td>0.375291</td>\n",
              "      <td>0.104478</td>\n",
              "      <td>0.030992</td>\n",
              "      <td>0.336556</td>\n",
              "      <td>0.093718</td>\n",
              "      <td>0.027803</td>\n",
              "      <td>5.596752e-13</td>\n",
              "      <td>2.149334e-13</td>\n",
              "      <td>5.847643e-14</td>\n",
              "      <td>1.459921e-08</td>\n",
              "      <td>5.690047e-09</td>\n",
              "      <td>1.830552e-09</td>\n",
              "    </tr>\n",
              "  </tbody>\n",
              "</table>\n",
              "</div>"
            ],
            "text/plain": [
              "                    0         1   ...            11            12\n",
              "0         cn_alice.txt  0.083031  ...  6.333062e-02  1.889068e-02\n",
              "1         cn_david.txt  0.339231  ...  7.054661e-03  7.850361e-04\n",
              "2  cn_expectations.txt  0.466135  ...  5.509080e-02  5.851759e-03\n",
              "3         cn_frank.txt  0.297297  ...  8.307359e-02  1.966367e-02\n",
              "4       cn_huckfin.txt  0.280392  ...  3.954812e-02  1.035856e-02\n",
              "5         cn_pride.txt  0.323171  ...  3.017351e-02  9.384811e-03\n",
              "6       cn_scarlet.txt  0.458479  ...  7.731471e-03  1.222036e-03\n",
              "7          cn_tale.txt  0.390370  ...  1.029258e-03  1.335786e-04\n",
              "8      cn_treasure.txt  0.495449  ...  1.427381e-02  9.179689e-03\n",
              "9      cn_warpeace.txt  0.375291  ...  5.690047e-09  1.830552e-09\n",
              "\n",
              "[10 rows x 13 columns]"
            ]
          },
          "metadata": {
            "tags": []
          },
          "execution_count": 74
        }
      ]
    }
  ]
}