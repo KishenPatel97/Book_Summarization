{
  "nbformat": 4,
  "nbformat_minor": 0,
  "metadata": {
    "colab": {
      "name": "bleu.ipynb",
      "provenance": [],
      "authorship_tag": "ABX9TyMVGAs2KV6Eieb41r5tLf62",
      "include_colab_link": true
    },
    "kernelspec": {
      "name": "python3",
      "display_name": "Python 3"
    }
  },
  "cells": [
    {
      "cell_type": "markdown",
      "metadata": {
        "id": "view-in-github",
        "colab_type": "text"
      },
      "source": [
        "<a href=\"https://colab.research.google.com/github/KishenPatel97/Book_Summarization/blob/main/bleu.ipynb\" target=\"_parent\"><img src=\"https://colab.research.google.com/assets/colab-badge.svg\" alt=\"Open In Colab\"/></a>"
      ]
    },
    {
      "cell_type": "code",
      "metadata": {
        "id": "zjYxuFUbdGtt",
        "colab": {
          "base_uri": "https://localhost:8080/"
        },
        "outputId": "1cb020db-2108-4a91-8b27-52a555b09ab0"
      },
      "source": [
        "import nltk\n",
        "from nltk.translate import bleu\n",
        "from nltk.translate.bleu_score import corpus_bleu\n",
        "from nltk.translate.bleu_score import SmoothingFunction\n",
        "nltk.download('punkt')\n",
        "from nltk import word_tokenize\n",
        "# from summarize import processBook"
      ],
      "execution_count": 61,
      "outputs": [
        {
          "output_type": "stream",
          "text": [
            "[nltk_data] Downloading package punkt to /root/nltk_data...\n",
            "[nltk_data]   Package punkt is already up-to-date!\n"
          ],
          "name": "stdout"
        }
      ]
    },
    {
      "cell_type": "code",
      "metadata": {
        "colab": {
          "base_uri": "https://localhost:8080/"
        },
        "id": "7aHedAtrvqqP",
        "outputId": "fc030c01-7417-489b-92cc-9ea9bfdce97a"
      },
      "source": [
        "hypothesis = \"the #### transcript is a written version of each day 's cnn student news program use this transcript to help students with reading comprehension and vocabulary use the weekly newsquiz to test your knowledge of storie s you saw on cnn student news\"\n",
        "\n",
        "reference = \"this page includes the show transcript use the transcript to help students with reading comprehension and vocabulary at the bottom of the page, comment for a chance to be mentioned on cnn student news. you must be a teacher or a student age # # or older to request a mention on the cnn student news roll call . the weekly newsquiz tests students' knowledge of even ts in the news\"\n",
        "\n",
        "hy1 = \"This text is just for testing purposes\"\n",
        "\n",
        "ref1 = \"The article is just meant for evaluation\"\n",
        "# Requires text in a tokenized format\n",
        "score1 = bleu([word_tokenize(reference)], word_tokenize(hypothesis))\n",
        "score1_2 = corpus_bleu([[word_tokenize(reference)]], [word_tokenize(hypothesis)])\n",
        "print(score1)\n",
        "print(score1_2)\n",
        "\n",
        "chencherry = SmoothingFunction()\n",
        "score2 = bleu([word_tokenize(ref1)], word_tokenize(hyp1), smoothing_function = chencherry.method1)\n",
        "print(score2)"
      ],
      "execution_count": 77,
      "outputs": [
        {
          "output_type": "stream",
          "text": [
            "0.17607804141687589\n",
            "0.17607804141687589\n",
            "0.07730551756939454\n"
          ],
          "name": "stdout"
        }
      ]
    },
    {
      "cell_type": "code",
      "metadata": {
        "id": "mL5NmEvdykVg"
      },
      "source": [
        "def processBook(fname):\n",
        "    \"\"\" Function to process .txt books, esp. from Gutenberg.\n",
        "    PARAMS: fname (str) - filepath to book to be processed into a string\n",
        "    RETURNS: (str) - the string object containing the text\n",
        "    \"\"\"\n",
        "    book = open(fname)      # open book file\n",
        "    book_lines = []         # initialize storage\n",
        "    for line in book.readlines():       # iterate through each line\n",
        "        book_lines.append(line.strip())     # process each line\n",
        "\n",
        "    return \" \".join(book_lines)         # return processed lines"
      ],
      "execution_count": 14,
      "outputs": []
    },
    {
      "cell_type": "code",
      "metadata": {
        "id": "7SZ_PpNzUe7W"
      },
      "source": [
        "def evaluateSummary(controltext1, controltext2, summarytext):\n",
        "    \"\"\"Helper function to run summarization experiments\n",
        "    PARAMS: controltext1 (str) - path to Cliff's Notes summary\n",
        "            controltext2 (str) - path to Grade Saver summary\n",
        "            summarytext (str) - path to generated summary to evaluate\n",
        "    \"\"\"\n",
        "    control1 = processBook(controltext1)\n",
        "    control2 = processBook(controltext2)\n",
        "    summary = processBook(summarytext)\n",
        "\n",
        "    chencherry = SmoothingFunction()\n",
        "    # Requires text in a tokenized format\n",
        "    # Calculate the upper bound (Bleu of 2 manually created summaries)\n",
        "    ub_scores = bleu([word_tokenize(control1)], word_tokenize(control2), weights = (1, 0, 0, 0), smoothing_function = chencherry.method1)\n",
        "    ub_scores_bi = bleu([word_tokenize(control1)], word_tokenize(control2), weights = (0, 1, 0, 0), smoothing_function = chencherry.method1)\n",
        "    ub_scores_cumal = bleu([word_tokenize(control1)], word_tokenize(control2), smoothing_function = chencherry.method1)\n",
        "\n",
        "    ub_scores2 = bleu([word_tokenize(control2)], word_tokenize(control1), weights = (1, 0, 0, 0), smoothing_function = chencherry.method1)\n",
        "    ub_scores2_bi = bleu([word_tokenize(control2)], word_tokenize(control1), weights = (0, 1, 0, 0), smoothing_function = chencherry.method1)\n",
        "    ub_scores2_cumal = bleu([word_tokenize(control2)], word_tokenize(control1), smoothing_function = chencherry.method1)\n",
        "\n",
        "    sum_scores_cn = bleu([word_tokenize(summary)], word_tokenize(control1), weights = (1, 0, 0, 0), smoothing_function = chencherry.method1)\n",
        "    sum_scores_cn_bi = bleu([word_tokenize(summary)], word_tokenize(control1), weights = (0, 1, 0, 0), smoothing_function = chencherry.method1)\n",
        "    sum_scores_cn_cumal = bleu([word_tokenize(summary)], word_tokenize(control1), smoothing_function = chencherry.method1)\n",
        "\n",
        "    sum_scores_gs = bleu([word_tokenize(summary)], word_tokenize(control2), weights = (1, 0, 0, 0), smoothing_function = chencherry.method1)\n",
        "    sum_scores_gs_bi = bleu([word_tokenize(summary)], word_tokenize(control2), weights = (0, 1, 0, 0), smoothing_function = chencherry.method1)\n",
        "    sum_scores_gs_cumal = bleu([word_tokenize(summary)], word_tokenize(control2), smoothing_function = chencherry.method1)\n",
        "\n",
        "\n",
        "    #print(\"Scores for {}\".format(controltext1[18:]))\n",
        "    print(f\"Scores for {controltext1}\")\n",
        "    print(\"Upper Bound:\")\n",
        "    print(f'unigram:    {ub_scores}')\n",
        "    print(f'bigram:     {ub_scores_bi}')\n",
        "    print(f'cumalitive  {ub_scores_cumal}')\n",
        "    print(f'\\nunigram:    {ub_scores2}')\n",
        "    print(f'bigram:     {ub_scores2_bi}')\n",
        "    print(f'cumalitive  {ub_scores2_cumal}')\n",
        "    print(\"\\nCliff's Notes:\")\n",
        "    print(f'unigram:    {sum_scores_cn}')\n",
        "    print(f'bigram:     {sum_scores_cn_bi}')\n",
        "    print(f'cumalitive: {sum_scores_cn_cumal}')\n",
        "    print(\"\\nGradeSaver:\")\n",
        "    print(f'unigram:    {sum_scores_gs}')\n",
        "    print(f'bigram:     {sum_scores_gs_bi}')\n",
        "    print(f'cumalitive: {sum_scores_gs_cumal}')"
      ],
      "execution_count": 115,
      "outputs": []
    },
    {
      "cell_type": "code",
      "metadata": {
        "id": "ggObRxn3NPIf",
        "colab": {
          "base_uri": "https://localhost:8080/"
        },
        "outputId": "b265b7dc-8a6b-4bb5-a078-ac8023df7095"
      },
      "source": [
        "evaluateSummary(\"cn_alice.txt\",\n",
        "                \"gs_alice.txt\",\n",
        "                \"whole_summary_alice.txt\")"
      ],
      "execution_count": 116,
      "outputs": [
        {
          "output_type": "stream",
          "text": [
            "Scores for cn_alice.txt\n",
            "Upper Bound:\n",
            "unigram:    0.08303134720918029\n",
            "bigram:     0.032459204484857264\n",
            "cumalitive  0.01419038319425634\n",
            "\n",
            "unigram:    0.2351590685470646\n",
            "bigram:     0.09186351706036745\n",
            "cumalitive  0.04014594269451768\n",
            "\n",
            "Cliff's Notes:\n",
            "unigram:    0.1807149885208265\n",
            "bigram:     0.03608923884514437\n",
            "cumalitive: 0.009155717540088395\n",
            "\n",
            "GradeSaver:\n",
            "unigram:    0.3405887852289164\n",
            "bigram:     0.06650345681735587\n",
            "cumalitive: 0.02163978358960259\n"
          ],
          "name": "stdout"
        }
      ]
    },
    {
      "cell_type": "code",
      "metadata": {
        "id": "13_X5ru_SoN2",
        "colab": {
          "base_uri": "https://localhost:8080/"
        },
        "outputId": "14e7044a-efe6-44b6-d9f2-c619e612167a"
      },
      "source": [
        "evaluateSummary(\"cn_david.txt\",\n",
        "                \"gs_david.txt\",\n",
        "                \"whole_summary_david.txt\")"
      ],
      "execution_count": 122,
      "outputs": [
        {
          "output_type": "stream",
          "text": [
            "Scores for cn_david.txt\n",
            "Upper Bound:\n",
            "unigram:    0.3392307692307692\n",
            "bigram:     0.13086989992301773\n",
            "cumalitive  0.056846519709643065\n",
            "\n",
            "unigram:    0.22932578989714053\n",
            "bigram:     0.08854956898635996\n",
            "cumalitive  0.038480971039978065\n",
            "\n",
            "Cliff's Notes:\n",
            "unigram:    0.2730039072978139\n",
            "bigram:     0.027222154315925295\n",
            "cumalitive: 0.005815222919923571\n",
            "\n",
            "GradeSaver:\n",
            "unigram:    0.25538461538461543\n",
            "bigram:     0.03233256351039261\n",
            "cumalitive: 0.00559644898758214\n"
          ],
          "name": "stdout"
        }
      ]
    },
    {
      "cell_type": "code",
      "metadata": {
        "id": "j8rEYelC5ZO4",
        "outputId": "138384d0-5bdb-454c-81f8-df97c8450b5b",
        "colab": {
          "base_uri": "https://localhost:8080/"
        }
      },
      "source": [
        "evaluateSummary(\"cn_expectations.txt\",\n",
        "                \"gs_expectations.txt\",\n",
        "                \"whole_summary_expectations.txt\")"
      ],
      "execution_count": 123,
      "outputs": [
        {
          "output_type": "stream",
          "text": [
            "Scores for cn_expectations.txt\n",
            "Upper Bound:\n",
            "unigram:    0.46613545816733065\n",
            "bigram:     0.18768115942028984\n",
            "cumalitive  0.08229812443984479\n",
            "\n",
            "unigram:    0.40850835159465515\n",
            "bigram:     0.16451470490322925\n",
            "cumalitive  0.07214756792939755\n",
            "\n",
            "Cliff's Notes:\n",
            "unigram:    0.14767441860465116\n",
            "bigram:     0.01687027341477603\n",
            "cumalitive: 0.0030315063625104615\n",
            "\n",
            "GradeSaver:\n",
            "unigram:    0.10358565737051793\n",
            "bigram:     0.01594202898550724\n",
            "cumalitive: 0.003052385012636237\n"
          ],
          "name": "stdout"
        }
      ]
    },
    {
      "cell_type": "code",
      "metadata": {
        "colab": {
          "base_uri": "https://localhost:8080/"
        },
        "id": "49IBx-RyXtvs",
        "outputId": "d97d8af6-dfa5-4e5e-fb49-201dcfdc6d00"
      },
      "source": [
        "evaluateSummary(\"cn_frank.txt\",\n",
        "                \"gs_frank.txt\",\n",
        "                \"whole_summary_frank.txt\")"
      ],
      "execution_count": 117,
      "outputs": [
        {
          "output_type": "stream",
          "text": [
            "Scores for cn_frank.txt\n",
            "Upper Bound:\n",
            "unigram:    0.2972972972972973\n",
            "bigram:     0.10815682739972962\n",
            "cumalitive  0.041622924169551496\n",
            "\n",
            "unigram:    0.17754126774891524\n",
            "bigram:     0.06462988085014275\n",
            "cumalitive  0.02487986089601523\n",
            "\n",
            "Cliff's Notes:\n",
            "unigram:    0.28802154657946133\n",
            "bigram:     0.038299639348021566\n",
            "cumalitive: 0.005830722513642557\n",
            "\n",
            "GradeSaver:\n",
            "unigram:    0.3\n",
            "bigram:     0.060387561964849026\n",
            "cumalitive: 0.014188404137624445\n"
          ],
          "name": "stdout"
        }
      ]
    },
    {
      "cell_type": "code",
      "metadata": {
        "id": "CiVpowGK5lvL",
        "outputId": "7c95208b-7740-47c1-8406-0441093a3aec",
        "colab": {
          "base_uri": "https://localhost:8080/"
        }
      },
      "source": [
        "evaluateSummary(\"cn_huckfin.txt\",\n",
        "                \"gs_huckfin.txt\",\n",
        "                \"whole_summary_huckfin.txt\")"
      ],
      "execution_count": 124,
      "outputs": [
        {
          "output_type": "stream",
          "text": [
            "Scores for cn_huckfin.txt\n",
            "Upper Bound:\n",
            "unigram:    0.2803921568627451\n",
            "bigram:     0.11378126532614026\n",
            "cumalitive  0.05191206501684533\n",
            "\n",
            "unigram:    0.1484987615856758\n",
            "bigram:     0.06030670128575214\n",
            "cumalitive  0.027525336504052856\n",
            "\n",
            "Cliff's Notes:\n",
            "unigram:    0.2509505703422053\n",
            "bigram:     0.029187817258883243\n",
            "cumalitive: 0.008295892765391681\n",
            "\n",
            "GradeSaver:\n",
            "unigram:    0.14215686274509803\n",
            "bigram:     0.017165277096615986\n",
            "cumalitive: 0.00276889100269416\n"
          ],
          "name": "stdout"
        }
      ]
    },
    {
      "cell_type": "code",
      "metadata": {
        "colab": {
          "base_uri": "https://localhost:8080/"
        },
        "id": "YTc4Lgrhz6lD",
        "outputId": "56a4966c-3566-4f0c-cc40-3503dad0bd53"
      },
      "source": [
        "evaluateSummary(\"cn_pride.txt\",\n",
        "                \"gs_pride.txt\",\n",
        "                \"whole_summary_pride.txt\")"
      ],
      "execution_count": 118,
      "outputs": [
        {
          "output_type": "stream",
          "text": [
            "Scores for cn_pride.txt\n",
            "Upper Bound:\n",
            "unigram:    0.3231707317073171\n",
            "bigram:     0.14449104079298514\n",
            "cumalitive  0.06221505030388924\n",
            "\n",
            "unigram:    0.18140364266272244\n",
            "bigram:     0.08115244351259103\n",
            "cumalitive  0.03495262654841914\n",
            "\n",
            "Cliff's Notes:\n",
            "unigram:    0.3282732447817837\n",
            "bigram:     0.03513770180436847\n",
            "cumalitive: 0.005683260935204823\n",
            "\n",
            "GradeSaver:\n",
            "unigram:    0.1676829268292683\n",
            "bigram:     0.025162028211971027\n",
            "cumalitive: 0.004185778054362778\n"
          ],
          "name": "stdout"
        }
      ]
    },
    {
      "cell_type": "code",
      "metadata": {
        "id": "bWYP3bBS50qj",
        "outputId": "f9c2894a-5ad0-4c4a-8cf6-90508c066983",
        "colab": {
          "base_uri": "https://localhost:8080/"
        }
      },
      "source": [
        "evaluateSummary(\"cn_scarlet.txt\",\n",
        "                \"gs_scarlet.txt\",\n",
        "                \"whole_summary_scarlet.txt\")"
      ],
      "execution_count": 125,
      "outputs": [
        {
          "output_type": "stream",
          "text": [
            "Scores for cn_scarlet.txt\n",
            "Upper Bound:\n",
            "unigram:    0.4584786624933773\n",
            "bigram:     0.1311605624799302\n",
            "cumalitive  0.048563373167915966\n",
            "\n",
            "unigram:    0.47834456207892206\n",
            "bigram:     0.13680154142581888\n",
            "cumalitive  0.050644147959759196\n",
            "\n",
            "Cliff's Notes:\n",
            "unigram:    0.2983638113570741\n",
            "bigram:     0.04238921001926782\n",
            "cumalitive: 0.006965835885137323\n",
            "\n",
            "GradeSaver:\n",
            "unigram:    0.31596701417050305\n",
            "bigram:     0.0465969856489687\n",
            "cumalitive: 0.0068659691664485845\n"
          ],
          "name": "stdout"
        }
      ]
    },
    {
      "cell_type": "code",
      "metadata": {
        "colab": {
          "base_uri": "https://localhost:8080/"
        },
        "id": "_r-f2VCW1jU4",
        "outputId": "f168976c-cbbe-4a30-a89e-050d2f769455"
      },
      "source": [
        "evaluateSummary(\"cn_tale.txt\",\n",
        "                \"gs_tale.txt\",\n",
        "                \"whole_summary_tale.txt\")"
      ],
      "execution_count": 119,
      "outputs": [
        {
          "output_type": "stream",
          "text": [
            "Scores for cn_tale.txt\n",
            "Upper Bound:\n",
            "unigram:    0.39036978012722634\n",
            "bigram:     0.1327118069258435\n",
            "cumalitive  0.06417368020060649\n",
            "\n",
            "unigram:    0.43161634103019536\n",
            "bigram:     0.14666666666666667\n",
            "cumalitive  0.07090525812334236\n",
            "\n",
            "Cliff's Notes:\n",
            "unigram:    0.25754884547069273\n",
            "bigram:     0.04266666666666667\n",
            "cumalitive: 0.005431884961326877\n",
            "\n",
            "GradeSaver:\n",
            "unigram:    0.30169268682148603\n",
            "bigram:     0.05481650131126973\n",
            "cumalitive: 0.007045445958764615\n"
          ],
          "name": "stdout"
        }
      ]
    },
    {
      "cell_type": "code",
      "metadata": {
        "colab": {
          "base_uri": "https://localhost:8080/"
        },
        "id": "-sexJMz89Vuz",
        "outputId": "38d8c072-663f-49cb-fe50-2b422d2181ae"
      },
      "source": [
        "evaluateSummary(\"cn_treasure.txt\",\n",
        "                \"gs_treasure.txt\",\n",
        "                \"whole_summary_treasure.txt\")"
      ],
      "execution_count": 120,
      "outputs": [
        {
          "output_type": "stream",
          "text": [
            "Scores for cn_treasure.txt\n",
            "Upper Bound:\n",
            "unigram:    0.49544922544410486\n",
            "bigram:     0.1454979131243865\n",
            "cumalitive  0.0615375452620419\n",
            "\n",
            "unigram:    0.4977738201246661\n",
            "bigram:     0.14616755793226383\n",
            "cumalitive  0.06181800524638476\n",
            "\n",
            "Cliff's Notes:\n",
            "unigram:    0.2653606411398041\n",
            "bigram:     0.031194295900178255\n",
            "cumalitive: 0.006026005363857137\n",
            "\n",
            "GradeSaver:\n",
            "unigram:    0.2595494613124388\n",
            "bigram:     0.03823529411764706\n",
            "cumalitive: 0.007865125359962121\n"
          ],
          "name": "stdout"
        }
      ]
    },
    {
      "cell_type": "code",
      "metadata": {
        "colab": {
          "base_uri": "https://localhost:8080/"
        },
        "id": "ki-QWgrA9hjW",
        "outputId": "fd0c45e0-f39e-47e6-ebd0-fcc5fa60d0c5"
      },
      "source": [
        "evaluateSummary(\"cn_warpeace.txt\",\n",
        "                \"gs_warpeace.txt\",\n",
        "                \"whole_summary_warpeace.txt\")"
      ],
      "execution_count": 126,
      "outputs": [
        {
          "output_type": "stream",
          "text": [
            "Scores for cn_warpeace.txt\n",
            "Upper Bound:\n",
            "unigram:    0.3752913752913753\n",
            "bigram:     0.10447761194029852\n",
            "cumalitive  0.030991563369445897\n",
            "\n",
            "unigram:    0.3365555744093594\n",
            "bigram:     0.09371762107043731\n",
            "cumalitive  0.027803312488139758\n",
            "\n",
            "Cliff's Notes:\n",
            "unigram:    0.17038102084831053\n",
            "bigram:     0.01942446043165468\n",
            "cumalitive: 0.002035493017924886\n",
            "\n",
            "GradeSaver:\n",
            "unigram:    0.14498834498834498\n",
            "bigram:     0.01912313432835821\n",
            "cumalitive: 0.0027878065405554154\n"
          ],
          "name": "stdout"
        }
      ]
    }
  ]
}